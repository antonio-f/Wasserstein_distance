{
 "cells": [
  {
   "cell_type": "markdown",
   "metadata": {},
   "source": [
    "# Earth Mover's Distance visualizations"
   ]
  },
  {
   "cell_type": "code",
   "execution_count": 1,
   "metadata": {},
   "outputs": [],
   "source": [
    "%matplotlib inline\n",
    "import numpy as np\n",
    "from matplotlib import pyplot as plt\n",
    "\n",
    "import warnings\n",
    "warnings.filterwarnings('ignore')"
   ]
  },
  {
   "cell_type": "markdown",
   "metadata": {},
   "source": [
    "### Setting probability distributions"
   ]
  },
  {
   "cell_type": "code",
   "execution_count": 2,
   "metadata": {},
   "outputs": [
    {
     "name": "stdout",
     "output_type": "stream",
     "text": [
      "P_r:\n"
     ]
    },
    {
     "data": {
      "image/png": "[encoded data removed]",
      "text/plain": [
       "<Figure size 432x288 with 1 Axes>"
      ]
     },
     "metadata": {
      "needs_background": "light"
     },
     "output_type": "display_data"
    },
    {
     "name": "stdout",
     "output_type": "stream",
     "text": [
      "P_t:\n"
     ]
    },
    {
     "data": {
      "image/png": "[encoded data removed]",
      "text/plain": [
       "<Figure size 432x288 with 1 Axes>"
      ]
     },
     "metadata": {
      "needs_background": "light"
     },
     "output_type": "display_data"
    }
   ],
   "source": [
    "l = 4 # number of support elements \n",
    "\n",
    "# define distributions \n",
    "P_r = np.array([1, 7, 4, 13])\n",
    "P_t = np.array([10, 8, 6, 1])\n",
    "# normalize to get probability distributions\n",
    "P_r = P_r / np.sum(P_r)\n",
    "P_t = P_t / np.sum(P_t)\n",
    "\n",
    "# plot & save distributions\n",
    "plt.bar(range(l), P_r, 1, color='teal', alpha=1)\n",
    "plt.axis('off')\n",
    "plt.ylim(0, 0.5)\n",
    "# plt.savefig(\"discrete_p_r.svg\") # uncomment to save svg image\n",
    "print(\"P_r:\")\n",
    "plt.show()\n",
    "\n",
    "plt.bar(range(l), P_t, 1, color='yellowgreen', alpha=1)\n",
    "plt.axis('off')\n",
    "plt.ylim(0, 0.5)\n",
    "# plt.savefig(\"discrete_p_t.svg\")\n",
    "print(\"P_t:\")\n",
    "plt.show()"
   ]
  },
  {
   "cell_type": "markdown",
   "metadata": {},
   "source": [
    "### Define matrices"
   ]
  },
  {
   "cell_type": "code",
   "execution_count": 3,
   "metadata": {},
   "outputs": [
    {
     "name": "stdout",
     "output_type": "stream",
     "text": [
      "[[0. 1. 2. 3.]\n",
      " [1. 0. 1. 2.]\n",
      " [2. 1. 0. 1.]\n",
      " [3. 2. 1. 0.]]\n"
     ]
    }
   ],
   "source": [
    "# define distances matrix D\n",
    "D = np.ndarray(shape=(l, l))\n",
    "\n",
    "for i in range(l):\n",
    "    for j in range(l):\n",
    "        D[i,j] = abs(range(l)[i] - range(l)[j])\n",
    "        \n",
    "print(D) # each diagonal entry is zero"
   ]
  },
  {
   "cell_type": "markdown",
   "metadata": {},
   "source": [
    "The optimal transport plan can be determined using the generic method of Linear Programming: find a vector $\\mathbf{x}$ (that is the flattening of the transport plan gamma) that minimizes $\\mathbf{c}^\\top\\mathbf{x}$ with the constraints $\\mathbf{Ax}=\\mathbf{b}$ and $\\mathbf{x} \\geq \\mathbf{0}$. \n",
    "\n",
    "The vector $\\mathbf{c}$ is the flattened version of the distance matrix $\\mathbf{D}$.  \n",
    "\n",
    "$\\mathbf{b} =\\,[$ `P_r,P_t` $ ]^\\top$ is the vector formed by concatenating `P_r` and `P_t`."
   ]
  },
  {
   "cell_type": "markdown",
   "metadata": {},
   "source": [
    "![immagine.png](img.png)"
   ]
  },
  {
   "cell_type": "code",
   "execution_count": 4,
   "metadata": {},
   "outputs": [
    {
     "name": "stdout",
     "output_type": "stream",
     "text": [
      "[[[1. 1. 1. 1.]\n",
      "  [0. 0. 0. 0.]\n",
      "  [0. 0. 0. 0.]\n",
      "  [0. 0. 0. 0.]]\n",
      "\n",
      " [[0. 0. 0. 0.]\n",
      "  [1. 1. 1. 1.]\n",
      "  [0. 0. 0. 0.]\n",
      "  [0. 0. 0. 0.]]\n",
      "\n",
      " [[0. 0. 0. 0.]\n",
      "  [0. 0. 0. 0.]\n",
      "  [1. 1. 1. 1.]\n",
      "  [0. 0. 0. 0.]]\n",
      "\n",
      " [[0. 0. 0. 0.]\n",
      "  [0. 0. 0. 0.]\n",
      "  [0. 0. 0. 0.]\n",
      "  [1. 1. 1. 1.]]] \n",
      "\n",
      "A: \n",
      " [[1. 1. 1. 1. 0. 0. 0. 0. 0. 0. 0. 0. 0. 0. 0. 0.]\n",
      " [0. 0. 0. 0. 1. 1. 1. 1. 0. 0. 0. 0. 0. 0. 0. 0.]\n",
      " [0. 0. 0. 0. 0. 0. 0. 0. 1. 1. 1. 1. 0. 0. 0. 0.]\n",
      " [0. 0. 0. 0. 0. 0. 0. 0. 0. 0. 0. 0. 1. 1. 1. 1.]\n",
      " [1. 0. 0. 0. 1. 0. 0. 0. 1. 0. 0. 0. 1. 0. 0. 0.]\n",
      " [0. 1. 0. 0. 0. 1. 0. 0. 0. 1. 0. 0. 0. 1. 0. 0.]\n",
      " [0. 0. 1. 0. 0. 0. 1. 0. 0. 0. 1. 0. 0. 0. 1. 0.]\n",
      " [0. 0. 0. 1. 0. 0. 0. 1. 0. 0. 0. 1. 0. 0. 0. 1.]] \n",
      "\n"
     ]
    }
   ],
   "source": [
    "# deifne matrix A as the join of two matrices \n",
    "# A is such that Ax equals the distributions vector  \n",
    "A_r = np.zeros((l, l, l))\n",
    "A_t = np.zeros((l, l, l))\n",
    "\n",
    "for i in range(l):\n",
    "    for j in range(l):\n",
    "        A_r[i, i, j] = 1\n",
    "        A_t[i, j, i] = 1\n",
    "\n",
    "print(A_r, \"\\n\") # example\n",
    "        \n",
    "A = np.concatenate((A_r.reshape((l, l**2)), A_t.reshape((l, l**2))), axis=0)\n",
    "print(\"A: \\n\", A, \"\\n\")\n"
   ]
  },
  {
   "cell_type": "code",
   "execution_count": 5,
   "metadata": {},
   "outputs": [
    {
     "data": {
      "text/plain": [
       "array([0., 1., 2., 3., 1., 0., 1., 2., 2., 1., 0., 1., 3., 2., 1., 0.])"
      ]
     },
     "execution_count": 5,
     "metadata": {},
     "output_type": "execute_result"
    }
   ],
   "source": [
    "# define b as concatenation of distributions P_r and P_t\n",
    "b = np.concatenate((P_r, P_t), axis=0)\n",
    "\n",
    "# c is obtained flattening the matrix D\n",
    "c = D.reshape((l**2))\n",
    "\n",
    "c"
   ]
  },
  {
   "cell_type": "markdown",
   "metadata": {},
   "source": [
    "### Solving the optimal mass moving problem"
   ]
  },
  {
   "cell_type": "code",
   "execution_count": 6,
   "metadata": {},
   "outputs": [],
   "source": [
    "# find EM distance by solving a linear programming problem\n",
    "from scipy.optimize import linprog\n",
    "\n",
    "# https://docs.scipy.org/doc/scipy/reference/generated/scipy.optimize.linprog.html\n",
    "# minimize a linear objective function subject to linear equality and inequality constraints.\n",
    "opt_res = linprog(c, A_eq=A, b_eq=b, bounds=[0, None])"
   ]
  },
  {
   "cell_type": "code",
   "execution_count": 7,
   "metadata": {},
   "outputs": [
    {
     "data": {
      "text/plain": [
       "dict_keys(['x', 'fun', 'slack', 'con', 'status', 'message', 'nit', 'success'])"
      ]
     },
     "execution_count": 7,
     "metadata": {},
     "output_type": "execute_result"
    }
   ],
   "source": [
    "opt_res.keys()"
   ]
  },
  {
   "cell_type": "code",
   "execution_count": 8,
   "metadata": {},
   "outputs": [
    {
     "name": "stdout",
     "output_type": "stream",
     "text": [
      "EM distance: 1.2400000000070897 \n",
      "\n"
     ]
    }
   ],
   "source": [
    "# \"fun\" returns the optimal minimum value (the EM distance)\n",
    "emd = opt_res.fun\n",
    "\n",
    "print(\"EM distance:\", emd, \"\\n\")\n"
   ]
  },
  {
   "cell_type": "markdown",
   "metadata": {},
   "source": [
    "### Displaying results"
   ]
  },
  {
   "cell_type": "code",
   "execution_count": 9,
   "metadata": {},
   "outputs": [
    {
     "name": "stdout",
     "output_type": "stream",
     "text": [
      "Gamma:\n"
     ]
    },
    {
     "data": {
      "image/png": "[encoded data removed]",
      "text/plain": [
       "<Figure size 432x288 with 1 Axes>"
      ]
     },
     "metadata": {
      "needs_background": "light"
     },
     "output_type": "display_data"
    },
    {
     "name": "stdout",
     "output_type": "stream",
     "text": [
      "D:\n"
     ]
    },
    {
     "data": {
      "image/png": "[encoded data removed]",
      "text/plain": [
       "<Figure size 432x288 with 1 Axes>"
      ]
     },
     "metadata": {
      "needs_background": "light"
     },
     "output_type": "display_data"
    }
   ],
   "source": [
    "from matplotlib import cm\n",
    "\n",
    "# gamma provides the optimal transport plan (optimal joint distribution)\n",
    "gamma = opt_res.x.reshape((l, l))\n",
    "\n",
    "# show gamma (optimal joint distribution) and D (distances matrix)\n",
    "plt.imshow(gamma, cmap=cm.viridis, interpolation='nearest')\n",
    "plt.axis('off')\n",
    "# plt.savefig(\"transport_plan.svg\") \n",
    "print(\"Gamma:\")\n",
    "plt.show()\n",
    "\n",
    "plt.imshow(D, cmap=cm.viridis, interpolation='nearest')\n",
    "plt.axis('off')\n",
    "# plt.savefig(\"distances.svg\")\n",
    "print(\"D:\")\n",
    "plt.show()"
   ]
  },
  {
   "cell_type": "markdown",
   "metadata": {},
   "source": [
    "### Plotting the mass moved"
   ]
  },
  {
   "cell_type": "code",
   "execution_count": 10,
   "metadata": {},
   "outputs": [
    {
     "data": {
      "image/png": "[encoded data removed]",
      "text/plain": [
       "<Figure size 432x288 with 1 Axes>"
      ]
     },
     "metadata": {
      "needs_background": "light"
     },
     "output_type": "display_data"
    }
   ],
   "source": [
    "import matplotlib.colors as colors\n",
    "\n",
    "r = range(l)\n",
    "cNorm = colors.Normalize(vmin=0, vmax=l)\n",
    "colorMap = cm.ScalarMappable(norm=cNorm, cmap=cm.terrain)\n",
    "\n",
    "current_bottom = np.zeros(l)\n",
    "\n",
    "for i in r.__reversed__():\n",
    "    plt.bar(r, gamma[r, i], 1, color=colorMap.to_rgba(r), bottom=current_bottom)\n",
    "    current_bottom = current_bottom + gamma[r, i]\n",
    "\n",
    "plt.axis('off')\n",
    "plt.ylim(0, 0.5)\n",
    "# plt.savefig(\"earth_move_p_r.svg\")\n",
    "plt.show()"
   ]
  },
  {
   "cell_type": "code",
   "execution_count": 11,
   "metadata": {},
   "outputs": [
    {
     "data": {
      "image/png": "[encoded data removed]",
      "text/plain": [
       "<Figure size 432x288 with 1 Axes>"
      ]
     },
     "metadata": {
      "needs_background": "light"
     },
     "output_type": "display_data"
    }
   ],
   "source": [
    "# plot the P_t distribution highlighting the mass moved from P_r \n",
    "current_bottom = np.zeros(l)\n",
    "r = range(l)\n",
    "\n",
    "for i in r:\n",
    "    plt.bar(r, gamma[i, r], 1, color=colorMap.to_rgba(i), bottom=current_bottom)\n",
    "    current_bottom = current_bottom + gamma[i, r]\n",
    "\n",
    "plt.axis('off')\n",
    "plt.ylim(0, 0.5)\n",
    "# plt.savefig(\"earth_move_p_t.svg\")\n",
    "plt.show()"
   ]
  }
 ],
 "metadata": {
  "kernelspec": {
   "display_name": "Python 3",
   "language": "python",
   "name": "python3"
  },
  "language_info": {
   "codemirror_mode": {
    "name": "ipython",
    "version": 3
   },
   "file_extension": ".py",
   "mimetype": "text/x-python",
   "name": "python",
   "nbconvert_exporter": "python",
   "pygments_lexer": "ipython3",
   "version": "3.7.9"
  }
 },
 "nbformat": 4,
 "nbformat_minor": 4
}
